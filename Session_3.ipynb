{
  "nbformat": 4,
  "nbformat_minor": 0,
  "metadata": {
    "colab": {
      "provenance": [],
      "authorship_tag": "ABX9TyP5xm+S7Rd/PPI/jVYUqjy/",
      "include_colab_link": true
    },
    "kernelspec": {
      "name": "python3",
      "display_name": "Python 3"
    },
    "language_info": {
      "name": "python"
    }
  },
  "cells": [
    {
      "cell_type": "markdown",
      "metadata": {
        "id": "view-in-github",
        "colab_type": "text"
      },
      "source": [
        "<a href=\"https://colab.research.google.com/github/BhaveeMody/Python-Practice/blob/main/Session_3.ipynb\" target=\"_parent\"><img src=\"https://colab.research.google.com/assets/colab-badge.svg\" alt=\"Open In Colab\"/></a>"
      ]
    },
    {
      "cell_type": "markdown",
      "source": [
        "#If-Else Sentences."
      ],
      "metadata": {
        "id": "R_VsLUgRU6rk"
      }
    },
    {
      "cell_type": "code",
      "source": [
        "number = int(input(\"Enter a number: \"))\n",
        "number = number%2\n",
        "print(number)"
      ],
      "metadata": {
        "colab": {
          "base_uri": "https://localhost:8080/"
        },
        "id": "OJrTcFmRVn62",
        "outputId": "036cb0c1-1edb-4080-dc6b-10a3ed6fc87b"
      },
      "execution_count": null,
      "outputs": [
        {
          "output_type": "stream",
          "name": "stdout",
          "text": [
            "Enter a number: 8\n",
            "0\n"
          ]
        }
      ]
    },
    {
      "cell_type": "code",
      "source": [
        "print(number == 0)"
      ],
      "metadata": {
        "colab": {
          "base_uri": "https://localhost:8080/"
        },
        "id": "rpcvJvNeWufX",
        "outputId": "15046f30-5403-40f6-97bc-2f0732f85827"
      },
      "execution_count": null,
      "outputs": [
        {
          "output_type": "stream",
          "name": "stdout",
          "text": [
            "True\n"
          ]
        }
      ]
    },
    {
      "cell_type": "code",
      "execution_count": null,
      "metadata": {
        "colab": {
          "base_uri": "https://localhost:8080/"
        },
        "id": "rbDGxC-pUqTx",
        "outputId": "61710675-285d-4d84-e4c0-6990b50b4e97"
      },
      "outputs": [
        {
          "output_type": "stream",
          "name": "stdout",
          "text": [
            "Enter a number: 10\n",
            "10 is an even number.\n"
          ]
        }
      ],
      "source": [
        "number = int(input(\"Enter a number: \"))\n",
        "if number % 2 == 0:\n",
        "    print(number, \"is an even number.\")\n",
        "else:\n",
        "    print(number, \"is an odd number.\")"
      ]
    },
    {
      "cell_type": "code",
      "source": [
        "age = int(input(\"Enter your age: \"))\n",
        "if age >= 18:\n",
        "  print(\"You are eligible to vote.\")\n",
        "else:\n",
        "  print(\"You are not eligible to vote.\")"
      ],
      "metadata": {
        "colab": {
          "base_uri": "https://localhost:8080/"
        },
        "id": "4WcDog_rXXGc",
        "outputId": "1a0bb93a-e34c-4d1e-9577-22d4a9307dea"
      },
      "execution_count": null,
      "outputs": [
        {
          "output_type": "stream",
          "name": "stdout",
          "text": [
            "Enter your age: 13\n",
            "You are not eligible to vote.\n"
          ]
        }
      ]
    },
    {
      "cell_type": "markdown",
      "source": [
        "# Task"
      ],
      "metadata": {
        "id": "XvxYALDFYQZg"
      }
    },
    {
      "cell_type": "markdown",
      "source": [
        "## Grading\n"
      ],
      "metadata": {
        "id": "sism8TM0bSMp"
      }
    },
    {
      "cell_type": "code",
      "source": [
        "score = int(input(\"enter your score\"))\n",
        "if score >=90:\n",
        "  print(\"You have got an A Grade.\")\n",
        "elif score >=80 and score <=89:\n",
        "  print(\"You have got a B Grade.\")\n",
        "elif score >=70 and score <=79:\n",
        "  print(\"You have got a C Grade.\")\n",
        "elif score >=60  and score<=69:\n",
        "  print(\"You have got a D Grade.\")\n",
        "else:\n",
        "  print(\"You have got a F Grade.\")"
      ],
      "metadata": {
        "colab": {
          "base_uri": "https://localhost:8080/"
        },
        "id": "5DTM4SVMbPDA",
        "outputId": "426e416d-752b-4ab4-c0d8-b5bb5ac0e763"
      },
      "execution_count": 8,
      "outputs": [
        {
          "output_type": "stream",
          "name": "stdout",
          "text": [
            "enter your score70\n",
            "You have got a C Grade.\n"
          ]
        }
      ]
    },
    {
      "cell_type": "markdown",
      "source": [
        "## Integers\n"
      ],
      "metadata": {
        "id": "VotZ70QFeGX9"
      }
    },
    {
      "cell_type": "code",
      "source": [
        "number = int(input(\"enter any integer\"))\n",
        "if number <0:\n",
        "  print(\"This number is a negative integer. \")\n",
        "elif number >0:\n",
        "  print(\"This number is a positive integer.\")\n",
        "else:\n",
        "  print(\"This is a zero.\")"
      ],
      "metadata": {
        "colab": {
          "base_uri": "https://localhost:8080/"
        },
        "id": "_fTSALmHdLcA",
        "outputId": "f7c22df6-68b5-4ee4-a8db-036939bc6b61"
      },
      "execution_count": 9,
      "outputs": [
        {
          "output_type": "stream",
          "name": "stdout",
          "text": [
            "enter any integer-100\n",
            "This number is a negative integer. \n"
          ]
        }
      ]
    },
    {
      "cell_type": "markdown",
      "source": [
        "## Identifying a leap year\n"
      ],
      "metadata": {
        "id": "CH0v73p_Y9MS"
      }
    },
    {
      "cell_type": "code",
      "source": [
        "year = int(input(\"enter any year: \"))\n",
        "if year % 4 == 0:\n",
        "  print(\"Leap Year\")\n",
        "else:\n",
        "  print(\"Not a Leap Year\")"
      ],
      "metadata": {
        "colab": {
          "base_uri": "https://localhost:8080/"
        },
        "id": "tsTOpYYYgTvO",
        "outputId": "f536bf92-41d3-45f4-a075-0490bf881548"
      },
      "execution_count": 10,
      "outputs": [
        {
          "output_type": "stream",
          "name": "stdout",
          "text": [
            "enter any year: 2010\n",
            "Not a Leap Year\n"
          ]
        }
      ]
    },
    {
      "cell_type": "markdown",
      "source": [
        "## Figuring Out the Largest Number"
      ],
      "metadata": {
        "id": "x8YBSkkNZDvs"
      }
    },
    {
      "cell_type": "code",
      "source": [
        "num1 = int(input(\"write the 1st number\"))\n",
        "num2 = int(input(\"write the 2nd number\"))\n",
        "num3 = int(input(\"write the 3rd number\"))\n",
        "if num1> num2 and num1>num3:\n",
        "  print(num1 , \"is the highest number.\")\n",
        "elif num2> num1 and num2>num3:\n",
        "  print(num2 , \"is the highest number.\")\n",
        "else:\n",
        "  print(num3 , \"is the highest number.\")\n"
      ],
      "metadata": {
        "colab": {
          "base_uri": "https://localhost:8080/"
        },
        "id": "LpMQo1BQoTM-",
        "outputId": "5c5349cd-4f6d-49bb-bd6b-f481fbfe83af"
      },
      "execution_count": 7,
      "outputs": [
        {
          "output_type": "stream",
          "name": "stdout",
          "text": [
            "write the 1st number100\n",
            "write the 2nd number200\n",
            "write the 3rd number300\n",
            "300 is the highest number.\n"
          ]
        }
      ]
    }
  ]
}