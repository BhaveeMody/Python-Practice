{
  "nbformat": 4,
  "nbformat_minor": 0,
  "metadata": {
    "colab": {
      "provenance": [],
      "authorship_tag": "ABX9TyMH2bNmTRpznzlyZw7JLDHp",
      "include_colab_link": true
    },
    "kernelspec": {
      "name": "python3",
      "display_name": "Python 3"
    },
    "language_info": {
      "name": "python"
    }
  },
  "cells": [
    {
      "cell_type": "markdown",
      "metadata": {
        "id": "view-in-github",
        "colab_type": "text"
      },
      "source": [
        "<a href=\"https://colab.research.google.com/github/BhaveeMody/Python-Practice/blob/main/boolean_expressions_and_logical_operators.ipynb\" target=\"_parent\"><img src=\"https://colab.research.google.com/assets/colab-badge.svg\" alt=\"Open In Colab\"/></a>"
      ]
    },
    {
      "cell_type": "markdown",
      "source": [
        "# Boolean Expressions and Logical Operators"
      ],
      "metadata": {
        "id": "Ve5qRRvZc1Kh"
      }
    },
    {
      "cell_type": "code",
      "execution_count": null,
      "metadata": {
        "colab": {
          "base_uri": "https://localhost:8080/"
        },
        "id": "sx9wGodQaYWE",
        "outputId": "72705d6c-980b-4949-db7e-56271c25d244"
      },
      "outputs": [
        {
          "output_type": "stream",
          "name": "stdout",
          "text": [
            "logical AND\n",
            "True\n",
            "False\n",
            "False\n",
            "False\n"
          ]
        }
      ],
      "source": [
        "print(\"logical AND\")\n",
        "print(True and True)\n",
        "print(True and False)\n",
        "print(False and True)\n",
        "print(False and False)"
      ]
    },
    {
      "cell_type": "code",
      "source": [
        "print(\"logical OR\")\n",
        "print(True or True)\n",
        "print(True or False)\n",
        "print(False or True)\n",
        "print(False or False)"
      ],
      "metadata": {
        "colab": {
          "base_uri": "https://localhost:8080/"
        },
        "id": "68L2T_d0duvk",
        "outputId": "c60dceb6-004f-4e86-b791-4777bf6b8ba1"
      },
      "execution_count": null,
      "outputs": [
        {
          "output_type": "stream",
          "name": "stdout",
          "text": [
            "logical OR\n",
            "True\n",
            "True\n",
            "True\n",
            "False\n"
          ]
        }
      ]
    },
    {
      "cell_type": "code",
      "source": [
        "print(num1>num3)"
      ],
      "metadata": {
        "colab": {
          "base_uri": "https://localhost:8080/"
        },
        "id": "bGi8KN-kfBVR",
        "outputId": "74aa0531-f384-440e-de17-b65a772b5ef2"
      },
      "execution_count": null,
      "outputs": [
        {
          "output_type": "stream",
          "name": "stdout",
          "text": [
            "True\n"
          ]
        }
      ]
    },
    {
      "cell_type": "code",
      "source": [
        "num1 = 300\n",
        "num2 = 400\n",
        "num3 = 200\n"
      ],
      "metadata": {
        "id": "Z23CCV32ehru"
      },
      "execution_count": null,
      "outputs": []
    },
    {
      "cell_type": "code",
      "source": [
        "print(num1>num2)"
      ],
      "metadata": {
        "colab": {
          "base_uri": "https://localhost:8080/"
        },
        "id": "meKqtXKefC_6",
        "outputId": "1d495b3d-6cf5-465b-9df8-118cf1bf913a"
      },
      "execution_count": null,
      "outputs": [
        {
          "output_type": "stream",
          "name": "stdout",
          "text": [
            "False\n"
          ]
        }
      ]
    },
    {
      "cell_type": "code",
      "source": [
        "print(\"logical NOT\")\n",
        "print(not True)\n",
        "print(not False)"
      ],
      "metadata": {
        "colab": {
          "base_uri": "https://localhost:8080/"
        },
        "id": "ciH6W-6zfYXo",
        "outputId": "f4585543-7ac6-449e-d5ca-5bc5181095d4"
      },
      "execution_count": null,
      "outputs": [
        {
          "output_type": "stream",
          "name": "stdout",
          "text": [
            "logical NOT\n",
            "False\n",
            "True\n"
          ]
        }
      ]
    },
    {
      "cell_type": "code",
      "source": [],
      "metadata": {
        "id": "-Xnndmp4gFRS"
      },
      "execution_count": null,
      "outputs": []
    }
  ]
}